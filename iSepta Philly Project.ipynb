{
 "cells": [
  {
   "cell_type": "markdown",
   "metadata": {},
   "source": [
    "# iSEPTA Philly Project\n",
    "## \"The Tappiest Time of the Year\" Contest\n",
    "\n",
    "### by John A. Fonte\n",
    "\n",
    "__Goal:__ Guess the total number of SEPTA key taps done on Friday, December 20, 2019 _without going over._\n",
    "\n",
    "- __Definition:__ A SEPTA \"key tap\" is a payment for public transportation fare by way of \"tapping\" the recently introduced magnetic cards onto digital turnstiles. <br><br>\n",
    "  - For purposes of this project, a \"key tap\" shall refer to a single use of a SEPTA key card for payment of fare.\n",
    "\n",
    "__Link to Contest:__ https://www.iseptaphilly.com/contests/172\n",
    "\n",
    "   - (_Update:_ The contest closed on December 20, 2019.)\n",
    "\n",
    "***"
   ]
  },
  {
   "cell_type": "markdown",
   "metadata": {},
   "source": [
    "## General Idea\n",
    "\n",
    "We need to perform the following for our analysis:\n",
    "\n",
    "1. Figure out what data to obtain.\n",
    "2. Within the desired data, figure out what metric to use to determine SEPTA key taps.\n",
    "3. Where to go to obtain said data.\n",
    "4. Perform data analysis and data modeling, assuming that there is enough available relevant data.\n",
    "5. Draw Conclusions\n",
    "\n",
    "### 1. What Data includes SEPTA Key Card Taps?\n",
    "\n",
    "SEPTA key taps are done for fare on all four modes of Philadelphia public transportation: \n",
    "\n",
    "   1. Subway (Market-Frankford Line (MFL) and Broad Street Line (BSL)) \n",
    "   2. Buses\n",
    "   3. Trolleys \n",
    "   4. Regional Rail Lines\n",
    "   \n",
    "#### Data Limitation #1: No Historic Key Card Information for Regional Rail Lines\n",
    "\n",
    "The use of SEPTA key cards is a recent change to Philadelphia's public transportation system, and indeed, SEPTA is still in the process of transitioning. Notably, the transition from standard payment to key taps for regional rail lines is [still in flux](https://www.inquirer.com/transportation/septa-key-regional-rail-rollout-travel-wallet-20191118.html). As such, there is not sufficient information to determine what portion of regional rail riders are currently using the SEPTA key card as the transition is so new (and quite frankly, it is unclear if this is calculated into the total number on iSEPTA Philly's end).\n",
    "\n",
    "For this reason, we will not include regional rail ridership into the analysis.\n",
    "\n",
    "#### Data Limitation #2: Fares Paid without SEPTA Key Card\n",
    "\n",
    "Although the SEPTA key card has made fare tokens obsolete, individuals may still pay for fare via single \"quick trip\" purchases at digital kiosks or with cash via a SEPTA representative in person. As we will see, the data does not show a distinction between key tap ridership and non-key tap ridership"
   ]
  },
  {
   "cell_type": "markdown",
   "metadata": {},
   "source": [
    "***\n"
   ]
  },
  {
   "cell_type": "markdown",
   "metadata": {},
   "source": [
    "Don't use [this](https://www.dropbox.com/sh/3jnvonaqtmvc3wh/AACvwz3DMTXrW56P8xBUUIcSa?dl=0&preview=README.md) data (based on my exhaustive research, the json formatting is incorrect anyway). The real reason is that it has stats on the _train_ rides, nothing about rider*ship*."
   ]
  },
  {
   "cell_type": "code",
   "execution_count": 14,
   "metadata": {},
   "outputs": [],
   "source": [
    "import pandas as pd"
   ]
  },
  {
   "cell_type": "code",
   "execution_count": 18,
   "metadata": {},
   "outputs": [],
   "source": [
    "df = pd.read_csv('D:/Github/Data-Science-Bootcamp/SEPTA-Competition-Project/SEPTA_Market_Frankford_Line.csv')"
   ]
  },
  {
   "cell_type": "code",
   "execution_count": 19,
   "metadata": {},
   "outputs": [
    {
     "data": {
      "text/html": [
       "<div>\n",
       "<style scoped>\n",
       "    .dataframe tbody tr th:only-of-type {\n",
       "        vertical-align: middle;\n",
       "    }\n",
       "\n",
       "    .dataframe tbody tr th {\n",
       "        vertical-align: top;\n",
       "    }\n",
       "\n",
       "    .dataframe thead th {\n",
       "        text-align: right;\n",
       "    }\n",
       "</style>\n",
       "<table border=\"1\" class=\"dataframe\">\n",
       "  <thead>\n",
       "    <tr style=\"text-align: right;\">\n",
       "      <th></th>\n",
       "      <th>OBJECTID</th>\n",
       "      <th>Route</th>\n",
       "      <th>Vehicle_Hours</th>\n",
       "      <th>Vehicle_Miles</th>\n",
       "      <th>Peak_Vehicles</th>\n",
       "      <th>Average_Weekday_Passengers</th>\n",
       "      <th>Annual_Passengers</th>\n",
       "      <th>Average_Trip_Length</th>\n",
       "      <th>Passenger_Miles</th>\n",
       "      <th>Passenger_Revenue</th>\n",
       "      <th>Variable_Expenses</th>\n",
       "      <th>Variable_Recovery</th>\n",
       "      <th>Fully_Allocated_Expenses</th>\n",
       "      <th>Operating_Ratio</th>\n",
       "      <th>GlobalID</th>\n",
       "      <th>Shape__Length</th>\n",
       "    </tr>\n",
       "  </thead>\n",
       "  <tbody>\n",
       "    <tr>\n",
       "      <th>0</th>\n",
       "      <td>1</td>\n",
       "      <td>Market-Frankford Line</td>\n",
       "      <td>470930</td>\n",
       "      <td>9230221</td>\n",
       "      <td>144</td>\n",
       "      <td>180512</td>\n",
       "      <td>54767414</td>\n",
       "      <td>4.7</td>\n",
       "      <td>257406800</td>\n",
       "      <td>59810392</td>\n",
       "      <td>137752084</td>\n",
       "      <td>158</td>\n",
       "      <td>136694484</td>\n",
       "      <td>44</td>\n",
       "      <td>9b7ec014-18d2-42af-a482-a86be8a370e6</td>\n",
       "      <td>0.237995</td>\n",
       "    </tr>\n",
       "  </tbody>\n",
       "</table>\n",
       "</div>"
      ],
      "text/plain": [
       "   OBJECTID                  Route  Vehicle_Hours  Vehicle_Miles  \\\n",
       "0         1  Market-Frankford Line         470930        9230221   \n",
       "\n",
       "   Peak_Vehicles  Average_Weekday_Passengers  Annual_Passengers  \\\n",
       "0            144                      180512           54767414   \n",
       "\n",
       "   Average_Trip_Length  Passenger_Miles  Passenger_Revenue  Variable_Expenses  \\\n",
       "0                  4.7        257406800           59810392          137752084   \n",
       "\n",
       "   Variable_Recovery  Fully_Allocated_Expenses  Operating_Ratio  \\\n",
       "0                158                 136694484               44   \n",
       "\n",
       "                               GlobalID  Shape__Length  \n",
       "0  9b7ec014-18d2-42af-a482-a86be8a370e6       0.237995  "
      ]
     },
     "execution_count": 19,
     "metadata": {},
     "output_type": "execute_result"
    }
   ],
   "source": [
    "df.head()"
   ]
  },
  {
   "cell_type": "code",
   "execution_count": null,
   "metadata": {},
   "outputs": [],
   "source": []
  }
 ],
 "metadata": {
  "kernelspec": {
   "display_name": "Python 3",
   "language": "python",
   "name": "python3"
  },
  "language_info": {
   "codemirror_mode": {
    "name": "ipython",
    "version": 3
   },
   "file_extension": ".py",
   "mimetype": "text/x-python",
   "name": "python",
   "nbconvert_exporter": "python",
   "pygments_lexer": "ipython3",
   "version": "3.7.1"
  }
 },
 "nbformat": 4,
 "nbformat_minor": 2
}
