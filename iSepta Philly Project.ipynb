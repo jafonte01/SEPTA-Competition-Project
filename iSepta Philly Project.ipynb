{
 "cells": [
  {
   "cell_type": "markdown",
   "metadata": {},
   "source": [
    "# iSEPTA Philly Project\n",
    "## \"The Tappiest Time of the Year\" Contest\n",
    "\n",
    "### by John A. Fonte\n",
    "\n",
    "__Goal:__ Guess the total number of SEPTA key taps done on Friday, December 20, 2019 _without going over._\n",
    "\n",
    "- __Definition:__ A SEPTA \"key tap\" is a payment for public transportation fare by way of \"tapping\" the recently introduced magnetic cards onto digital turnstiles. <br><br>\n",
    "  - For purposes of this project, a \"key tap\" shall refer to a single use of a SEPTA key card for payment of fare.\n",
    "\n",
    "__Link to Contest:__ https://www.iseptaphilly.com/contests/172\n",
    "\n",
    "   - (_Update:_ The contest closed on December 20, 2019.)\n",
    "\n",
    "***"
   ]
  },
  {
   "cell_type": "markdown",
   "metadata": {},
   "source": [
    "***\n",
    "# OVERVIEW OF PROJECT\n",
    "\n",
    "We need to perform the following for our analysis:\n",
    "\n",
    "1. Figure out what data to obtain.\n",
    "2. Where to go to obtain said data.\n",
    "3. Within the desired data, figure out what metric to use to determine SEPTA key taps.\n",
    "4. Perform data analysis and data modeling, assuming that there is enough available relevant data.\n",
    "5. Draw Conclusions\n",
    "\n",
    "## 1. What Data includes SEPTA Key Card Taps?\n",
    "\n",
    "SEPTA key taps are done for fare on all four modes of Philadelphia public transportation: \n",
    "\n",
    "   1. Subway (Market-Frankford Line (MFL) and Broad Street Line (BSL)) \n",
    "   2. Buses\n",
    "   3. Trolleys \n",
    "   4. Regional Rail Lines\n",
    "   \n",
    "SEPTA key cards were introduced tpo the public on February 9, 2017, according to the timeline set forth on the [Wikipedia page](https://en.wikipedia.org/wiki/SEPTA_Key).\n",
    "   \n",
    "### Data Limitation #1: No Historic Key Card Information for Regional Rail Lines\n",
    "\n",
    "The use of SEPTA key cards is a recent change to Philadelphia's public transportation system, and indeed, SEPTA is still in the process of transitioning. Notably, the transition from standard payment to key taps for regional rail lines is [still in flux](https://www.inquirer.com/transportation/septa-key-regional-rail-rollout-travel-wallet-20191118.html). It is unclear when the transition will be completed; according to the Wikipedia timeline, as of now, the regional rail transition is still in its early adoption program phase.\n",
    "\n",
    "As such, there is not sufficient information to determine what portion of regional rail riders are currently using the SEPTA key card as the transition is so new (and quite frankly, it is unclear if this is calculated into the total number on iSEPTA Philly's end).\n",
    "\n",
    "For this reason, we will not include regional rail ridership into the analysis.\n",
    "\n",
    "### Data Limitation #2: Fares Paid without SEPTA Key Card\n",
    "\n",
    "Although the SEPTA key card has made fare tokens obsolete, individuals may still pay for fare via single \"quick trip\" purchases at digital kiosks or with cash via a SEPTA representative in person. As we will see, the data does not show a distinction between key tap ridership and non-key tap ridership.\n",
    "***"
   ]
  },
  {
   "cell_type": "markdown",
   "metadata": {},
   "source": [
    "***\n",
    "## 2. Where to Find SEPTA Data\n",
    "\n",
    "Luckily, Philadelphia is fairly progressive in offering open data. Here are some open data links used to obtain the data:\n",
    "\n",
    "1. __[SEPTA Open Data](http://septaopendata-septa.opendata.arcgis.com/):__ Provides .csv compilations of SEPTA statistics for each mode of transportation described above, along with aggregations of data.\n",
    "\n",
    "\n",
    "2. __Federal Transit Adminsitration's [National Transit Database](https://www.transit.dot.gov/ntd/what-national-transit-database-ntd-program):__ Has reports on all major public transportation systems, in both aggregated and raw data form.\n",
    "\n",
    "\n",
    "3. __Various Aggregated Reports:__ These reports do not provide analyzable tabular data, but they are still good reference points/sanity checks for a ballpark estimation as to where are analyzed values should be.\n",
    "\n",
    "    - _SEPTA Annual Reports_: Annual Reports provided by SEPTA itself, such as [this one for November 2019](http://septa.org/strategic-plan/pdf/2019-11-revenue-ride.pdf)!<br><br>\n",
    "    \n",
    "    - _Center City District & Central Philadelphia Development Corporation_: Has Annual Reports such as this [2018 Annual Report](https://centercityphila.org/uploads/attachments/cjusnd2j40fjnukqdy7j9p2ng-socc-2019-transportation.pdf).\n",
    "    \n",
    "\n",
    "Here are some open data links that seemed relevant but are __NOT__ used in this project:\n",
    "\n",
    "1. __[Scraped Septa-stats.com Data](https://www.dropbox.com/sh/3jnvonaqtmvc3wh/AACvwz3DMTXrW56P8xBUUIcSa?dl=0):__ This is voluminous data on each and every SEPTA service route and timestamps for each stop on each and every service route. This data does not include ridership or revenue stats - only the routes themselves.\n",
    "    - Plus...I am pretty sure the .json format is broken because a parsing error is thrown on the first line! I think there is no delimiter (i.e., comma) between json lines, and that is simply not worth fixing, especially for irrelevant data.\n",
    "***"
   ]
  },
  {
   "cell_type": "code",
   "execution_count": null,
   "metadata": {},
   "outputs": [],
   "source": [
    "# IMPORT OF RAW DATA\n",
    "\n",
    "import pandas as pd"
   ]
  },
  {
   "cell_type": "code",
   "execution_count": 23,
   "metadata": {},
   "outputs": [],
   "source": [
    "'''\n",
    "Data obtained from SEPTA Open Data and\n",
    "the FTA National Transit Database. These\n",
    "data files were downloaded onto local terminal.\n",
    "'''\n",
    "# (local path reads)\n",
    "\n",
    "## Subway Aggregated Datasets - Spring 2018 (with revenue of Fiscal Year 2017)\n",
    "\n",
    "df_BSLagg = pd.read_csv('D:/Github/Data-Science-Bootcamp/SEPTA-Competition-Project/SEPTA__Broad_Street_Line.csv')\n",
    "df_MFLagg = pd.read_csv('D:/Github/Data-Science-Bootcamp/SEPTA-Competition-Project/SEPTA_Market_Frankford_Line.csv')\n",
    "df_Norrisagg = pd.read_csv('D:/Github/Data-Science-Bootcamp/SEPTA-Competition-Project/SEPTA__Norristown_Highspeed_Line - agg.csv')"
   ]
  },
  {
   "cell_type": "code",
   "execution_count": null,
   "metadata": {},
   "outputs": [],
   "source": [
    "## Bus & Trolley Aggregated Datasets - Spring 2018\n",
    "\n",
    "df_trolleyagg = pd.read_csv('D:/Github/Data-Science-Bootcamp/SEPTA-Competition-Project/SEPTA_Trolley - Spring 2018 revenue.csv')\n",
    "df_busagg = pd.read_csv('D:/Github/Data-Science-Bootcamp/SEPTA-Competition-Project/SEPTA_Bus - Spring 2018 revenue.csv')"
   ]
  },
  {
   "cell_type": "code",
   "execution_count": 25,
   "metadata": {},
   "outputs": [],
   "source": [
    "## Subway Non-Aggregated Datasets - Spring 2018\n",
    "\n",
    "df_BSL = pd.read_csv('D:/Github/Data-Science-Bootcamp/SEPTA-Competition-Project/SEPTA_BSL - Spring 2018.csv')\n",
    "df_MFL = pd.read_csv('D:/Github/Data-Science-Bootcamp/SEPTA-Competition-Project/SEPTA_MFL - Spring 2018.csv')\n",
    "\n",
    "### (Norristown - Spring 2017)\n",
    "\n",
    "df_Norris = pd.read_csv('D:/Github/Data-Science-Bootcamp/SEPTA-Competition-Project/SEPTA__Norristown_Highspeed_line_Stations.csv')"
   ]
  },
  {
   "cell_type": "code",
   "execution_count": 26,
   "metadata": {},
   "outputs": [
    {
     "name": "stderr",
     "output_type": "stream",
     "text": [
      "C:\\Anaconda\\lib\\site-packages\\IPython\\core\\interactiveshell.py:3020: DtypeWarning: Columns (3,4,5,6,9,10,11,12,14,15,16) have mixed types. Specify dtype option on import or set low_memory=False.\n",
      "  interactivity=interactivity, compiler=compiler, result=result)\n"
     ]
    }
   ],
   "source": [
    "## Bus & Trolley Non-Aggregated Datasets - Spring 2018 and Spring 2019\n",
    "\n",
    "df_bus2018 = pd.read_csv('D:/Github/Data-Science-Bootcamp/SEPTA-Competition-Project/SEPTA_Bus - Spring 2018.csv')\n",
    "df_bus2019 = pd.read_csv('D:/Github/Data-Science-Bootcamp/SEPTA-Competition-Project/SEPTA_Bus - Spring 2019.csv')\n",
    "df_trolley = pd.read_csv('D:/Github/Data-Science-Bootcamp/SEPTA-Competition-Project/SEPTA_Trolley - Spring 2018.csv')"
   ]
  },
  {
   "cell_type": "code",
   "execution_count": null,
   "metadata": {},
   "outputs": [],
   "source": []
  },
  {
   "cell_type": "code",
   "execution_count": null,
   "metadata": {},
   "outputs": [],
   "source": []
  },
  {
   "cell_type": "code",
   "execution_count": null,
   "metadata": {},
   "outputs": [],
   "source": []
  },
  {
   "cell_type": "code",
   "execution_count": null,
   "metadata": {},
   "outputs": [],
   "source": []
  },
  {
   "cell_type": "code",
   "execution_count": null,
   "metadata": {},
   "outputs": [],
   "source": []
  },
  {
   "cell_type": "code",
   "execution_count": null,
   "metadata": {},
   "outputs": [],
   "source": []
  },
  {
   "cell_type": "code",
   "execution_count": null,
   "metadata": {},
   "outputs": [],
   "source": []
  },
  {
   "cell_type": "markdown",
   "metadata": {},
   "source": [
    "***\n",
    "## 3. What Target Metric Should be Used for Calculating SEPTA Key Taps?\n",
    "\n",
    "If there was a data series of \"SEPTA Card Key Taps\", the analysis would be fairly straightforward. Upon review of the data (as taken from above), there is no such data series.  Therefore, we will have to construct our own translation between the target variable (number of key taps) and the available features.\n",
    "\n",
    "While feature exploration/selection is always a critical part of data analysis, a good starting point is to look more into _ridership_ and _revenue_. \n",
    "\n",
    "***"
   ]
  },
  {
   "cell_type": "markdown",
   "metadata": {},
   "source": [
    "***\n",
    "## 4. Data Analysis\n",
    "\n",
    "Now that we "
   ]
  },
  {
   "cell_type": "code",
   "execution_count": 14,
   "metadata": {},
   "outputs": [],
   "source": []
  },
  {
   "cell_type": "code",
   "execution_count": 18,
   "metadata": {},
   "outputs": [],
   "source": [
    "df = pd.read_csv('D:/Github/Data-Science-Bootcamp/SEPTA-Competition-Project/SEPTA_Market_Frankford_Line.csv')"
   ]
  },
  {
   "cell_type": "code",
   "execution_count": 19,
   "metadata": {},
   "outputs": [
    {
     "data": {
      "text/html": [
       "<div>\n",
       "<style scoped>\n",
       "    .dataframe tbody tr th:only-of-type {\n",
       "        vertical-align: middle;\n",
       "    }\n",
       "\n",
       "    .dataframe tbody tr th {\n",
       "        vertical-align: top;\n",
       "    }\n",
       "\n",
       "    .dataframe thead th {\n",
       "        text-align: right;\n",
       "    }\n",
       "</style>\n",
       "<table border=\"1\" class=\"dataframe\">\n",
       "  <thead>\n",
       "    <tr style=\"text-align: right;\">\n",
       "      <th></th>\n",
       "      <th>OBJECTID</th>\n",
       "      <th>Route</th>\n",
       "      <th>Vehicle_Hours</th>\n",
       "      <th>Vehicle_Miles</th>\n",
       "      <th>Peak_Vehicles</th>\n",
       "      <th>Average_Weekday_Passengers</th>\n",
       "      <th>Annual_Passengers</th>\n",
       "      <th>Average_Trip_Length</th>\n",
       "      <th>Passenger_Miles</th>\n",
       "      <th>Passenger_Revenue</th>\n",
       "      <th>Variable_Expenses</th>\n",
       "      <th>Variable_Recovery</th>\n",
       "      <th>Fully_Allocated_Expenses</th>\n",
       "      <th>Operating_Ratio</th>\n",
       "      <th>GlobalID</th>\n",
       "      <th>Shape__Length</th>\n",
       "    </tr>\n",
       "  </thead>\n",
       "  <tbody>\n",
       "    <tr>\n",
       "      <th>0</th>\n",
       "      <td>1</td>\n",
       "      <td>Market-Frankford Line</td>\n",
       "      <td>470930</td>\n",
       "      <td>9230221</td>\n",
       "      <td>144</td>\n",
       "      <td>180512</td>\n",
       "      <td>54767414</td>\n",
       "      <td>4.7</td>\n",
       "      <td>257406800</td>\n",
       "      <td>59810392</td>\n",
       "      <td>137752084</td>\n",
       "      <td>158</td>\n",
       "      <td>136694484</td>\n",
       "      <td>44</td>\n",
       "      <td>9b7ec014-18d2-42af-a482-a86be8a370e6</td>\n",
       "      <td>0.237995</td>\n",
       "    </tr>\n",
       "  </tbody>\n",
       "</table>\n",
       "</div>"
      ],
      "text/plain": [
       "   OBJECTID                  Route  Vehicle_Hours  Vehicle_Miles  \\\n",
       "0         1  Market-Frankford Line         470930        9230221   \n",
       "\n",
       "   Peak_Vehicles  Average_Weekday_Passengers  Annual_Passengers  \\\n",
       "0            144                      180512           54767414   \n",
       "\n",
       "   Average_Trip_Length  Passenger_Miles  Passenger_Revenue  Variable_Expenses  \\\n",
       "0                  4.7        257406800           59810392          137752084   \n",
       "\n",
       "   Variable_Recovery  Fully_Allocated_Expenses  Operating_Ratio  \\\n",
       "0                158                 136694484               44   \n",
       "\n",
       "                               GlobalID  Shape__Length  \n",
       "0  9b7ec014-18d2-42af-a482-a86be8a370e6       0.237995  "
      ]
     },
     "execution_count": 19,
     "metadata": {},
     "output_type": "execute_result"
    }
   ],
   "source": [
    "df.head()"
   ]
  },
  {
   "cell_type": "code",
   "execution_count": null,
   "metadata": {},
   "outputs": [],
   "source": []
  }
 ],
 "metadata": {
  "kernelspec": {
   "display_name": "Python 3",
   "language": "python",
   "name": "python3"
  },
  "language_info": {
   "codemirror_mode": {
    "name": "ipython",
    "version": 3
   },
   "file_extension": ".py",
   "mimetype": "text/x-python",
   "name": "python",
   "nbconvert_exporter": "python",
   "pygments_lexer": "ipython3",
   "version": "3.7.1"
  }
 },
 "nbformat": 4,
 "nbformat_minor": 2
}
